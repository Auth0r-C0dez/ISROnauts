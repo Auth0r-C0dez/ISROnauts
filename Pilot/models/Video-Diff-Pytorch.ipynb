{
 "cells": [
  {
   "cell_type": "code",
   "execution_count": 1,
   "metadata": {
    "executionInfo": {
     "elapsed": 14236,
     "status": "ok",
     "timestamp": 1750879815637,
     "user": {
      "displayName": "Rana Talukdar",
      "userId": "04433901076618612995"
     },
     "user_tz": -330
    },
    "id": "zqB8gS6lDTWa"
   },
   "outputs": [],
   "source": [
    "from video_diffusion_pytorch import Unet3D, GaussianDiffusion, Trainer\n",
    "import torch\n"
   ]
  },
  {
   "cell_type": "code",
   "execution_count": 2,
   "metadata": {
    "executionInfo": {
     "elapsed": 31,
     "status": "ok",
     "timestamp": 1750879815671,
     "user": {
      "displayName": "Rana Talukdar",
      "userId": "04433901076618612995"
     },
     "user_tz": -330
    },
    "id": "RpKE8-rCbHh_"
   },
   "outputs": [],
   "source": [
    "from video_diffusion_pytorch import Unet3D\n",
    "\n",
    "model = Unet3D(\n",
    "    dim=64,\n",
    "    dim_mults=(1, 2, 4),\n",
    "    channels=6   # or 5, depending on how many spectral bands you use\n",
    ")\n"
   ]
  },
  {
   "cell_type": "code",
   "execution_count": 3,
   "metadata": {
    "executionInfo": {
     "elapsed": 46,
     "status": "ok",
     "timestamp": 1750879815722,
     "user": {
      "displayName": "Rana Talukdar",
      "userId": "04433901076618612995"
     },
     "user_tz": -330
    },
    "id": "yORDqW30hdxZ"
   },
   "outputs": [],
   "source": [
    "from video_diffusion_pytorch import GaussianDiffusion\n",
    "diffusion = GaussianDiffusion(\n",
    "    model,\n",
    "    image_size=128,\n",
    "    num_frames=8,\n",
    "    timesteps=1000,\n",
    "    loss_type='l2',\n",
    "    channels=6   # ✅ explicitly set channels here\n",
    ")"
   ]
  },
  {
   "cell_type": "code",
   "execution_count": 4,
   "metadata": {
    "executionInfo": {
     "elapsed": 20,
     "status": "ok",
     "timestamp": 1750879815752,
     "user": {
      "displayName": "Rana Talukdar",
      "userId": "04433901076618612995"
     },
     "user_tz": -330
    },
    "id": "_QeVGxFJEUHC"
   },
   "outputs": [],
   "source": [
    "# from video_diffusion_pytorch import GaussianDiffusion\n",
    "\n",
    "# diffusion = GaussianDiffusion(\n",
    "#     model,            # the U-Net we just created\n",
    "#     image_size=128,         # input images must be resized to 128x128\n",
    "#     num_frames=8,           # number of time steps (frames) in your video clip\n",
    "#     timesteps=1000,         # number of diffusion steps (noise levels)\n",
    "#     loss_type='l2'          # standard pixel-wise loss\n",
    "# )\n"
   ]
  },
  {
   "cell_type": "code",
   "execution_count": 6,
   "metadata": {
    "executionInfo": {
     "elapsed": 108,
     "status": "ok",
     "timestamp": 1750879815865,
     "user": {
      "displayName": "Rana Talukdar",
      "userId": "04433901076618612995"
     },
     "user_tz": -330
    },
    "id": "HARJ0MVtbVui"
   },
   "outputs": [],
   "source": [
    "import h5py\n",
    "import numpy as np\n",
    "import torch\n",
    "\n",
    "# Function to load a sequence of 8 frames from multiple .h5 files\n",
    "def load_sequence(h5_file_paths, bands, sequence_length=8):\n",
    "    \"\"\"\n",
    "    Load a sequence of 8 frames, each with stacked 6-channel data (VIS/WV/etc.)\n",
    "\n",
    "    Args:\n",
    "        h5_file_paths: list of 8 h5 file paths (1 per timestamp)\n",
    "        bands: list of 6 band names to extract\n",
    "        sequence_length: number of frames (default=8)\n",
    "\n",
    "    Returns:\n",
    "        A tensor of shape (8, 6, 128, 128)\n",
    "    \"\"\"\n",
    "    sequence = []\n",
    "\n",
    "    for path in h5_file_paths[:sequence_length]:\n",
    "        with h5py.File(path, 'r') as f:\n",
    "            frame = []\n",
    "            for band in bands:\n",
    "                data = f[band][0]  # shape: (128, 128)\n",
    "                frame.append(data)\n",
    "            frame = np.stack(frame)  # shape: (6, 128, 128)\n",
    "            sequence.append(frame)\n",
    "\n",
    "    sequence_np = np.stack(sequence)  # shape: (8, 6, 128, 128)\n",
    "    return torch.tensor(sequence_np, dtype=torch.float32)\n"
   ]
  },
  {
   "cell_type": "code",
   "execution_count": 7,
   "metadata": {
    "executionInfo": {
     "elapsed": 23,
     "status": "ok",
     "timestamp": 1750879815891,
     "user": {
      "displayName": "Rana Talukdar",
      "userId": "04433901076618612995"
     },
     "user_tz": -330
    },
    "id": "mrwV23cScOSf"
   },
   "outputs": [],
   "source": [
    "from torch.utils.data import Dataset, DataLoader\n",
    "\n",
    "class CloudMotionDataset(Dataset):\n",
    "    def __init__(self, h5_file_paths, bands, sequence_length=8):\n",
    "        self.h5_file_paths = h5_file_paths\n",
    "        self.bands = bands\n",
    "        self.sequence_length = sequence_length\n",
    "\n",
    "        # Ensure only full sequences are kept\n",
    "        self.valid_start_indices = list(range(0, len(h5_file_paths) - sequence_length + 1))\n",
    "\n",
    "    def __len__(self):\n",
    "        return len(self.valid_start_indices)\n",
    "\n",
    "    def __getitem__(self, idx):\n",
    "        start_idx = self.valid_start_indices[idx]\n",
    "        sequence_paths = self.h5_file_paths[start_idx : start_idx + self.sequence_length]\n",
    "        return load_sequence(sequence_paths, self.bands, self.sequence_length)  # shape: (8, 6, 128, 128)\n"
   ]
  },
  {
   "cell_type": "code",
   "execution_count": 8,
   "metadata": {
    "colab": {
     "base_uri": "https://localhost:8080/"
    },
    "executionInfo": {
     "elapsed": 25301,
     "status": "ok",
     "timestamp": 1750879841195,
     "user": {
      "displayName": "Rana Talukdar",
      "userId": "04433901076618612995"
     },
     "user_tz": -330
    },
    "id": "zInNgjpZdWWJ",
    "outputId": "d98743de-382a-4f60-aee7-1a89263724c7"
   },
   "outputs": [
    {
     "name": "stdout",
     "output_type": "stream",
     "text": [
      "Mounted at /content/drive\n"
     ]
    }
   ],
   "source": [
    "from google.colab import drive\n",
    "import os\n",
    "\n",
    "# 1. Mount Google Drive\n",
    "drive.mount('/content/drive')"
   ]
  },
  {
   "cell_type": "code",
   "execution_count": 10,
   "metadata": {
    "executionInfo": {
     "elapsed": 1044,
     "status": "ok",
     "timestamp": 1750879842233,
     "user": {
      "displayName": "Rana Talukdar",
      "userId": "04433901076618612995"
     },
     "user_tz": -330
    },
    "id": "1237e6wkdQEV"
   },
   "outputs": [],
   "source": [
    "import glob\n",
    "import os\n",
    "# Replace this path with your actual folder containing the .h5 files\n",
    "folder_path = ''\n",
    "\n",
    "# This will collect all .h5 files in sorted time order\n",
    "all_h5_paths = sorted(glob.glob(folder_path + '*.h5'))\n",
    "\n",
    "# Define spectral bands you want to use\n",
    "band_list = ['IMG_VIS', 'IMG_WV', 'IMG_TIR1', 'IMG_TIR2', 'IMG_MIR', 'IMG_SWIR']\n",
    "\n",
    "# Create dataset\n",
    "dataset = CloudMotionDataset(all_h5_paths, band_list)\n"
   ]
  },
  {
   "cell_type": "code",
   "execution_count": 11,
   "metadata": {
    "colab": {
     "base_uri": "https://localhost:8080/"
    },
    "executionInfo": {
     "elapsed": 23,
     "status": "ok",
     "timestamp": 1750879842258,
     "user": {
      "displayName": "Rana Talukdar",
      "userId": "04433901076618612995"
     },
     "user_tz": -330
    },
    "id": "Diu2MW5-gXBP",
    "outputId": "b06fc87a-a546-4e4c-adf3-3454bb28042c"
   },
   "outputs": [
    {
     "name": "stdout",
     "output_type": "stream",
     "text": [
      "9\n"
     ]
    }
   ],
   "source": [
    "print(len(all_h5_paths))  # should be >= 8\n"
   ]
  },
  {
   "cell_type": "code",
   "execution_count": 13,
   "metadata": {
    "colab": {
     "base_uri": "https://localhost:8080/",
     "height": 477
    },
    "executionInfo": {
     "elapsed": 11058,
     "status": "error",
     "timestamp": 1750879853323,
     "user": {
      "displayName": "Rana Talukdar",
      "userId": "04433901076618612995"
     },
     "user_tz": -330
    },
    "id": "X-6Q_Lpgc3TL",
    "outputId": "0ba4fcf4-e7cf-4df2-9a9d-adc04b388fe2"
   },
   "outputs": [
    {
     "name": "stdout",
     "output_type": "stream",
     "text": [
      "Epoch 1/10\n"
     ]
    },
    {
     "name": "stderr",
     "output_type": "stream",
     "text": [
      "100%|██████████| 1/1 [03:09<00:00, 189.74s/it]\n"
     ]
    },
    {
     "name": "stdout",
     "output_type": "stream",
     "text": [
      "Epoch 1 loss: 14341.846680\n",
      "Epoch 2/10\n"
     ]
    },
    {
     "name": "stderr",
     "output_type": "stream",
     "text": [
      "100%|██████████| 1/1 [03:19<00:00, 199.34s/it]\n"
     ]
    },
    {
     "name": "stdout",
     "output_type": "stream",
     "text": [
      "Epoch 2 loss: 9011.032227\n",
      "Epoch 3/10\n"
     ]
    },
    {
     "name": "stderr",
     "output_type": "stream",
     "text": [
      "100%|██████████| 1/1 [03:09<00:00, 189.65s/it]\n"
     ]
    },
    {
     "name": "stdout",
     "output_type": "stream",
     "text": [
      "Epoch 3 loss: 670.778076\n",
      "Epoch 4/10\n"
     ]
    },
    {
     "name": "stderr",
     "output_type": "stream",
     "text": [
      "100%|██████████| 1/1 [02:34<00:00, 154.03s/it]\n"
     ]
    },
    {
     "name": "stdout",
     "output_type": "stream",
     "text": [
      "Epoch 4 loss: 1806.480591\n",
      "Epoch 5/10\n"
     ]
    },
    {
     "name": "stderr",
     "output_type": "stream",
     "text": [
      "100%|██████████| 1/1 [03:15<00:00, 195.37s/it]\n"
     ]
    },
    {
     "name": "stdout",
     "output_type": "stream",
     "text": [
      "Epoch 5 loss: 1016.767517\n",
      "Epoch 6/10\n"
     ]
    },
    {
     "name": "stderr",
     "output_type": "stream",
     "text": [
      "100%|██████████| 1/1 [02:36<00:00, 156.09s/it]\n"
     ]
    },
    {
     "name": "stdout",
     "output_type": "stream",
     "text": [
      "Epoch 6 loss: 1515.173706\n",
      "Epoch 7/10\n"
     ]
    },
    {
     "name": "stderr",
     "output_type": "stream",
     "text": [
      "100%|██████████| 1/1 [02:54<00:00, 174.81s/it]\n"
     ]
    },
    {
     "name": "stdout",
     "output_type": "stream",
     "text": [
      "Epoch 7 loss: 870.424133\n",
      "Epoch 8/10\n"
     ]
    },
    {
     "name": "stderr",
     "output_type": "stream",
     "text": [
      "100%|██████████| 1/1 [02:40<00:00, 160.17s/it]\n"
     ]
    },
    {
     "name": "stdout",
     "output_type": "stream",
     "text": [
      "Epoch 8 loss: 1256.790039\n",
      "Epoch 9/10\n"
     ]
    },
    {
     "name": "stderr",
     "output_type": "stream",
     "text": [
      "100%|██████████| 1/1 [02:48<00:00, 168.31s/it]\n"
     ]
    },
    {
     "name": "stdout",
     "output_type": "stream",
     "text": [
      "Epoch 9 loss: 1062.807861\n",
      "Epoch 10/10\n"
     ]
    },
    {
     "name": "stderr",
     "output_type": "stream",
     "text": [
      "100%|██████████| 1/1 [02:49<00:00, 169.29s/it]"
     ]
    },
    {
     "name": "stdout",
     "output_type": "stream",
     "text": [
      "Epoch 10 loss: 1550.648071\n"
     ]
    },
    {
     "name": "stderr",
     "output_type": "stream",
     "text": [
      "\n"
     ]
    }
   ],
   "source": [
    "from torch.utils.data import DataLoader\n",
    "import torch\n",
    "from tqdm import tqdm\n",
    "\n",
    "# Create DataLoader\n",
    "dataloader = DataLoader(dataset, batch_size=2, shuffle=True, num_workers=0)\n",
    "\n",
    "# Optimizer\n",
    "optimizer = torch.optim.Adam(diffusion.parameters(), lr=8e-5)\n",
    "\n",
    "# Move model to GPU if available\n",
    "device = torch.device(\"cuda\" if torch.cuda.is_available() else \"cpu\")\n",
    "diffusion.to(device)\n",
    "\n",
    "# Training Loop\n",
    "num_epochs = 10  # or define based on steps you want\n",
    "for epoch in range(num_epochs):\n",
    "    print(f\"Epoch {epoch+1}/{num_epochs}\")\n",
    "    for batch in tqdm(dataloader):\n",
    "        batch = batch.to(device)  # shape: (B, 8, 6, 128, 128)\n",
    "\n",
    "        # Reorder dims to (B, C, F, H, W) as expected by diffusion\n",
    "        batch = batch.permute(0, 2, 1, 3, 4)  # (B, C, F, H, W)\n",
    "\n",
    "        loss = diffusion(batch)\n",
    "        optimizer.zero_grad()\n",
    "        loss.backward()\n",
    "        optimizer.step()\n",
    "\n",
    "    print(f\"Epoch {epoch+1} loss: {loss.item():.6f}\")\n"
   ]
  },
  {
   "cell_type": "code",
   "execution_count": 14,
   "metadata": {
    "executionInfo": {
     "elapsed": 2,
     "status": "aborted",
     "timestamp": 1750879853353,
     "user": {
      "displayName": "Rana Talukdar",
      "userId": "04433901076618612995"
     },
     "user_tz": -330
    },
    "id": "zmv7bAk2fRxM"
   },
   "outputs": [],
   "source": [
    "# Save the model and diffusion weights\n",
    "torch.save({\n",
    "    'model_state_dict': model.state_dict(),\n",
    "    'diffusion_state_dict': diffusion.state_dict()\n",
    "}, 'cloud_motion_diffusion.pth')\n"
   ]
  },
  {
   "cell_type": "code",
   "execution_count": 15,
   "metadata": {},
   "outputs": [
    {
     "data": {
      "text/plain": [
       "GaussianDiffusion(\n",
       "  (denoise_fn): Unet3D(\n",
       "    (time_rel_pos_bias): RelativePositionBias(\n",
       "      (relative_attention_bias): Embedding(32, 8)\n",
       "    )\n",
       "    (init_conv): Conv3d(6, 64, kernel_size=(1, 7, 7), stride=(1, 1, 1), padding=(0, 3, 3))\n",
       "    (init_temporal_attn): Residual(\n",
       "      (fn): PreNorm(\n",
       "        (fn): EinopsToAndFrom(\n",
       "          (fn): Attention(\n",
       "            (rotary_emb): RotaryEmbedding()\n",
       "            (to_qkv): Linear(in_features=64, out_features=768, bias=False)\n",
       "            (to_out): Linear(in_features=256, out_features=64, bias=False)\n",
       "          )\n",
       "        )\n",
       "        (norm): LayerNorm()\n",
       "      )\n",
       "    )\n",
       "    (time_mlp): Sequential(\n",
       "      (0): SinusoidalPosEmb()\n",
       "      (1): Linear(in_features=64, out_features=256, bias=True)\n",
       "      (2): GELU(approximate='none')\n",
       "      (3): Linear(in_features=256, out_features=256, bias=True)\n",
       "    )\n",
       "    (downs): ModuleList(\n",
       "      (0): ModuleList(\n",
       "        (0-1): 2 x ResnetBlock(\n",
       "          (mlp): Sequential(\n",
       "            (0): SiLU()\n",
       "            (1): Linear(in_features=256, out_features=128, bias=True)\n",
       "          )\n",
       "          (block1): Block(\n",
       "            (proj): Conv3d(64, 64, kernel_size=(1, 3, 3), stride=(1, 1, 1), padding=(0, 1, 1))\n",
       "            (norm): RMSNorm()\n",
       "            (act): SiLU()\n",
       "          )\n",
       "          (block2): Block(\n",
       "            (proj): Conv3d(64, 64, kernel_size=(1, 3, 3), stride=(1, 1, 1), padding=(0, 1, 1))\n",
       "            (norm): RMSNorm()\n",
       "            (act): SiLU()\n",
       "          )\n",
       "          (res_conv): Identity()\n",
       "        )\n",
       "        (2): Residual(\n",
       "          (fn): PreNorm(\n",
       "            (fn): SpatialLinearAttention(\n",
       "              (to_qkv): Conv2d(64, 768, kernel_size=(1, 1), stride=(1, 1), bias=False)\n",
       "              (to_out): Conv2d(256, 64, kernel_size=(1, 1), stride=(1, 1))\n",
       "            )\n",
       "            (norm): LayerNorm()\n",
       "          )\n",
       "        )\n",
       "        (3): Residual(\n",
       "          (fn): PreNorm(\n",
       "            (fn): EinopsToAndFrom(\n",
       "              (fn): Attention(\n",
       "                (rotary_emb): RotaryEmbedding()\n",
       "                (to_qkv): Linear(in_features=64, out_features=768, bias=False)\n",
       "                (to_out): Linear(in_features=256, out_features=64, bias=False)\n",
       "              )\n",
       "            )\n",
       "            (norm): LayerNorm()\n",
       "          )\n",
       "        )\n",
       "        (4): Conv3d(64, 64, kernel_size=(1, 4, 4), stride=(1, 2, 2), padding=(0, 1, 1))\n",
       "      )\n",
       "      (1): ModuleList(\n",
       "        (0): ResnetBlock(\n",
       "          (mlp): Sequential(\n",
       "            (0): SiLU()\n",
       "            (1): Linear(in_features=256, out_features=256, bias=True)\n",
       "          )\n",
       "          (block1): Block(\n",
       "            (proj): Conv3d(64, 128, kernel_size=(1, 3, 3), stride=(1, 1, 1), padding=(0, 1, 1))\n",
       "            (norm): RMSNorm()\n",
       "            (act): SiLU()\n",
       "          )\n",
       "          (block2): Block(\n",
       "            (proj): Conv3d(128, 128, kernel_size=(1, 3, 3), stride=(1, 1, 1), padding=(0, 1, 1))\n",
       "            (norm): RMSNorm()\n",
       "            (act): SiLU()\n",
       "          )\n",
       "          (res_conv): Conv3d(64, 128, kernel_size=(1, 1, 1), stride=(1, 1, 1))\n",
       "        )\n",
       "        (1): ResnetBlock(\n",
       "          (mlp): Sequential(\n",
       "            (0): SiLU()\n",
       "            (1): Linear(in_features=256, out_features=256, bias=True)\n",
       "          )\n",
       "          (block1): Block(\n",
       "            (proj): Conv3d(128, 128, kernel_size=(1, 3, 3), stride=(1, 1, 1), padding=(0, 1, 1))\n",
       "            (norm): RMSNorm()\n",
       "            (act): SiLU()\n",
       "          )\n",
       "          (block2): Block(\n",
       "            (proj): Conv3d(128, 128, kernel_size=(1, 3, 3), stride=(1, 1, 1), padding=(0, 1, 1))\n",
       "            (norm): RMSNorm()\n",
       "            (act): SiLU()\n",
       "          )\n",
       "          (res_conv): Identity()\n",
       "        )\n",
       "        (2): Residual(\n",
       "          (fn): PreNorm(\n",
       "            (fn): SpatialLinearAttention(\n",
       "              (to_qkv): Conv2d(128, 768, kernel_size=(1, 1), stride=(1, 1), bias=False)\n",
       "              (to_out): Conv2d(256, 128, kernel_size=(1, 1), stride=(1, 1))\n",
       "            )\n",
       "            (norm): LayerNorm()\n",
       "          )\n",
       "        )\n",
       "        (3): Residual(\n",
       "          (fn): PreNorm(\n",
       "            (fn): EinopsToAndFrom(\n",
       "              (fn): Attention(\n",
       "                (rotary_emb): RotaryEmbedding()\n",
       "                (to_qkv): Linear(in_features=128, out_features=768, bias=False)\n",
       "                (to_out): Linear(in_features=256, out_features=128, bias=False)\n",
       "              )\n",
       "            )\n",
       "            (norm): LayerNorm()\n",
       "          )\n",
       "        )\n",
       "        (4): Conv3d(128, 128, kernel_size=(1, 4, 4), stride=(1, 2, 2), padding=(0, 1, 1))\n",
       "      )\n",
       "      (2): ModuleList(\n",
       "        (0): ResnetBlock(\n",
       "          (mlp): Sequential(\n",
       "            (0): SiLU()\n",
       "            (1): Linear(in_features=256, out_features=512, bias=True)\n",
       "          )\n",
       "          (block1): Block(\n",
       "            (proj): Conv3d(128, 256, kernel_size=(1, 3, 3), stride=(1, 1, 1), padding=(0, 1, 1))\n",
       "            (norm): RMSNorm()\n",
       "            (act): SiLU()\n",
       "          )\n",
       "          (block2): Block(\n",
       "            (proj): Conv3d(256, 256, kernel_size=(1, 3, 3), stride=(1, 1, 1), padding=(0, 1, 1))\n",
       "            (norm): RMSNorm()\n",
       "            (act): SiLU()\n",
       "          )\n",
       "          (res_conv): Conv3d(128, 256, kernel_size=(1, 1, 1), stride=(1, 1, 1))\n",
       "        )\n",
       "        (1): ResnetBlock(\n",
       "          (mlp): Sequential(\n",
       "            (0): SiLU()\n",
       "            (1): Linear(in_features=256, out_features=512, bias=True)\n",
       "          )\n",
       "          (block1): Block(\n",
       "            (proj): Conv3d(256, 256, kernel_size=(1, 3, 3), stride=(1, 1, 1), padding=(0, 1, 1))\n",
       "            (norm): RMSNorm()\n",
       "            (act): SiLU()\n",
       "          )\n",
       "          (block2): Block(\n",
       "            (proj): Conv3d(256, 256, kernel_size=(1, 3, 3), stride=(1, 1, 1), padding=(0, 1, 1))\n",
       "            (norm): RMSNorm()\n",
       "            (act): SiLU()\n",
       "          )\n",
       "          (res_conv): Identity()\n",
       "        )\n",
       "        (2): Residual(\n",
       "          (fn): PreNorm(\n",
       "            (fn): SpatialLinearAttention(\n",
       "              (to_qkv): Conv2d(256, 768, kernel_size=(1, 1), stride=(1, 1), bias=False)\n",
       "              (to_out): Conv2d(256, 256, kernel_size=(1, 1), stride=(1, 1))\n",
       "            )\n",
       "            (norm): LayerNorm()\n",
       "          )\n",
       "        )\n",
       "        (3): Residual(\n",
       "          (fn): PreNorm(\n",
       "            (fn): EinopsToAndFrom(\n",
       "              (fn): Attention(\n",
       "                (rotary_emb): RotaryEmbedding()\n",
       "                (to_qkv): Linear(in_features=256, out_features=768, bias=False)\n",
       "                (to_out): Linear(in_features=256, out_features=256, bias=False)\n",
       "              )\n",
       "            )\n",
       "            (norm): LayerNorm()\n",
       "          )\n",
       "        )\n",
       "        (4): Identity()\n",
       "      )\n",
       "    )\n",
       "    (ups): ModuleList(\n",
       "      (0): ModuleList(\n",
       "        (0): ResnetBlock(\n",
       "          (mlp): Sequential(\n",
       "            (0): SiLU()\n",
       "            (1): Linear(in_features=256, out_features=256, bias=True)\n",
       "          )\n",
       "          (block1): Block(\n",
       "            (proj): Conv3d(512, 128, kernel_size=(1, 3, 3), stride=(1, 1, 1), padding=(0, 1, 1))\n",
       "            (norm): RMSNorm()\n",
       "            (act): SiLU()\n",
       "          )\n",
       "          (block2): Block(\n",
       "            (proj): Conv3d(128, 128, kernel_size=(1, 3, 3), stride=(1, 1, 1), padding=(0, 1, 1))\n",
       "            (norm): RMSNorm()\n",
       "            (act): SiLU()\n",
       "          )\n",
       "          (res_conv): Conv3d(512, 128, kernel_size=(1, 1, 1), stride=(1, 1, 1))\n",
       "        )\n",
       "        (1): ResnetBlock(\n",
       "          (mlp): Sequential(\n",
       "            (0): SiLU()\n",
       "            (1): Linear(in_features=256, out_features=256, bias=True)\n",
       "          )\n",
       "          (block1): Block(\n",
       "            (proj): Conv3d(128, 128, kernel_size=(1, 3, 3), stride=(1, 1, 1), padding=(0, 1, 1))\n",
       "            (norm): RMSNorm()\n",
       "            (act): SiLU()\n",
       "          )\n",
       "          (block2): Block(\n",
       "            (proj): Conv3d(128, 128, kernel_size=(1, 3, 3), stride=(1, 1, 1), padding=(0, 1, 1))\n",
       "            (norm): RMSNorm()\n",
       "            (act): SiLU()\n",
       "          )\n",
       "          (res_conv): Identity()\n",
       "        )\n",
       "        (2): Residual(\n",
       "          (fn): PreNorm(\n",
       "            (fn): SpatialLinearAttention(\n",
       "              (to_qkv): Conv2d(128, 768, kernel_size=(1, 1), stride=(1, 1), bias=False)\n",
       "              (to_out): Conv2d(256, 128, kernel_size=(1, 1), stride=(1, 1))\n",
       "            )\n",
       "            (norm): LayerNorm()\n",
       "          )\n",
       "        )\n",
       "        (3): Residual(\n",
       "          (fn): PreNorm(\n",
       "            (fn): EinopsToAndFrom(\n",
       "              (fn): Attention(\n",
       "                (rotary_emb): RotaryEmbedding()\n",
       "                (to_qkv): Linear(in_features=128, out_features=768, bias=False)\n",
       "                (to_out): Linear(in_features=256, out_features=128, bias=False)\n",
       "              )\n",
       "            )\n",
       "            (norm): LayerNorm()\n",
       "          )\n",
       "        )\n",
       "        (4): ConvTranspose3d(128, 128, kernel_size=(1, 4, 4), stride=(1, 2, 2), padding=(0, 1, 1))\n",
       "      )\n",
       "      (1): ModuleList(\n",
       "        (0): ResnetBlock(\n",
       "          (mlp): Sequential(\n",
       "            (0): SiLU()\n",
       "            (1): Linear(in_features=256, out_features=128, bias=True)\n",
       "          )\n",
       "          (block1): Block(\n",
       "            (proj): Conv3d(256, 64, kernel_size=(1, 3, 3), stride=(1, 1, 1), padding=(0, 1, 1))\n",
       "            (norm): RMSNorm()\n",
       "            (act): SiLU()\n",
       "          )\n",
       "          (block2): Block(\n",
       "            (proj): Conv3d(64, 64, kernel_size=(1, 3, 3), stride=(1, 1, 1), padding=(0, 1, 1))\n",
       "            (norm): RMSNorm()\n",
       "            (act): SiLU()\n",
       "          )\n",
       "          (res_conv): Conv3d(256, 64, kernel_size=(1, 1, 1), stride=(1, 1, 1))\n",
       "        )\n",
       "        (1): ResnetBlock(\n",
       "          (mlp): Sequential(\n",
       "            (0): SiLU()\n",
       "            (1): Linear(in_features=256, out_features=128, bias=True)\n",
       "          )\n",
       "          (block1): Block(\n",
       "            (proj): Conv3d(64, 64, kernel_size=(1, 3, 3), stride=(1, 1, 1), padding=(0, 1, 1))\n",
       "            (norm): RMSNorm()\n",
       "            (act): SiLU()\n",
       "          )\n",
       "          (block2): Block(\n",
       "            (proj): Conv3d(64, 64, kernel_size=(1, 3, 3), stride=(1, 1, 1), padding=(0, 1, 1))\n",
       "            (norm): RMSNorm()\n",
       "            (act): SiLU()\n",
       "          )\n",
       "          (res_conv): Identity()\n",
       "        )\n",
       "        (2): Residual(\n",
       "          (fn): PreNorm(\n",
       "            (fn): SpatialLinearAttention(\n",
       "              (to_qkv): Conv2d(64, 768, kernel_size=(1, 1), stride=(1, 1), bias=False)\n",
       "              (to_out): Conv2d(256, 64, kernel_size=(1, 1), stride=(1, 1))\n",
       "            )\n",
       "            (norm): LayerNorm()\n",
       "          )\n",
       "        )\n",
       "        (3): Residual(\n",
       "          (fn): PreNorm(\n",
       "            (fn): EinopsToAndFrom(\n",
       "              (fn): Attention(\n",
       "                (rotary_emb): RotaryEmbedding()\n",
       "                (to_qkv): Linear(in_features=64, out_features=768, bias=False)\n",
       "                (to_out): Linear(in_features=256, out_features=64, bias=False)\n",
       "              )\n",
       "            )\n",
       "            (norm): LayerNorm()\n",
       "          )\n",
       "        )\n",
       "        (4): ConvTranspose3d(64, 64, kernel_size=(1, 4, 4), stride=(1, 2, 2), padding=(0, 1, 1))\n",
       "      )\n",
       "      (2): ModuleList(\n",
       "        (0): ResnetBlock(\n",
       "          (mlp): Sequential(\n",
       "            (0): SiLU()\n",
       "            (1): Linear(in_features=256, out_features=128, bias=True)\n",
       "          )\n",
       "          (block1): Block(\n",
       "            (proj): Conv3d(128, 64, kernel_size=(1, 3, 3), stride=(1, 1, 1), padding=(0, 1, 1))\n",
       "            (norm): RMSNorm()\n",
       "            (act): SiLU()\n",
       "          )\n",
       "          (block2): Block(\n",
       "            (proj): Conv3d(64, 64, kernel_size=(1, 3, 3), stride=(1, 1, 1), padding=(0, 1, 1))\n",
       "            (norm): RMSNorm()\n",
       "            (act): SiLU()\n",
       "          )\n",
       "          (res_conv): Conv3d(128, 64, kernel_size=(1, 1, 1), stride=(1, 1, 1))\n",
       "        )\n",
       "        (1): ResnetBlock(\n",
       "          (mlp): Sequential(\n",
       "            (0): SiLU()\n",
       "            (1): Linear(in_features=256, out_features=128, bias=True)\n",
       "          )\n",
       "          (block1): Block(\n",
       "            (proj): Conv3d(64, 64, kernel_size=(1, 3, 3), stride=(1, 1, 1), padding=(0, 1, 1))\n",
       "            (norm): RMSNorm()\n",
       "            (act): SiLU()\n",
       "          )\n",
       "          (block2): Block(\n",
       "            (proj): Conv3d(64, 64, kernel_size=(1, 3, 3), stride=(1, 1, 1), padding=(0, 1, 1))\n",
       "            (norm): RMSNorm()\n",
       "            (act): SiLU()\n",
       "          )\n",
       "          (res_conv): Identity()\n",
       "        )\n",
       "        (2): Residual(\n",
       "          (fn): PreNorm(\n",
       "            (fn): SpatialLinearAttention(\n",
       "              (to_qkv): Conv2d(64, 768, kernel_size=(1, 1), stride=(1, 1), bias=False)\n",
       "              (to_out): Conv2d(256, 64, kernel_size=(1, 1), stride=(1, 1))\n",
       "            )\n",
       "            (norm): LayerNorm()\n",
       "          )\n",
       "        )\n",
       "        (3): Residual(\n",
       "          (fn): PreNorm(\n",
       "            (fn): EinopsToAndFrom(\n",
       "              (fn): Attention(\n",
       "                (rotary_emb): RotaryEmbedding()\n",
       "                (to_qkv): Linear(in_features=64, out_features=768, bias=False)\n",
       "                (to_out): Linear(in_features=256, out_features=64, bias=False)\n",
       "              )\n",
       "            )\n",
       "            (norm): LayerNorm()\n",
       "          )\n",
       "        )\n",
       "        (4): Identity()\n",
       "      )\n",
       "    )\n",
       "    (mid_block1): ResnetBlock(\n",
       "      (mlp): Sequential(\n",
       "        (0): SiLU()\n",
       "        (1): Linear(in_features=256, out_features=512, bias=True)\n",
       "      )\n",
       "      (block1): Block(\n",
       "        (proj): Conv3d(256, 256, kernel_size=(1, 3, 3), stride=(1, 1, 1), padding=(0, 1, 1))\n",
       "        (norm): RMSNorm()\n",
       "        (act): SiLU()\n",
       "      )\n",
       "      (block2): Block(\n",
       "        (proj): Conv3d(256, 256, kernel_size=(1, 3, 3), stride=(1, 1, 1), padding=(0, 1, 1))\n",
       "        (norm): RMSNorm()\n",
       "        (act): SiLU()\n",
       "      )\n",
       "      (res_conv): Identity()\n",
       "    )\n",
       "    (mid_spatial_attn): Residual(\n",
       "      (fn): PreNorm(\n",
       "        (fn): EinopsToAndFrom(\n",
       "          (fn): Attention(\n",
       "            (to_qkv): Linear(in_features=256, out_features=768, bias=False)\n",
       "            (to_out): Linear(in_features=256, out_features=256, bias=False)\n",
       "          )\n",
       "        )\n",
       "        (norm): LayerNorm()\n",
       "      )\n",
       "    )\n",
       "    (mid_temporal_attn): Residual(\n",
       "      (fn): PreNorm(\n",
       "        (fn): EinopsToAndFrom(\n",
       "          (fn): Attention(\n",
       "            (rotary_emb): RotaryEmbedding()\n",
       "            (to_qkv): Linear(in_features=256, out_features=768, bias=False)\n",
       "            (to_out): Linear(in_features=256, out_features=256, bias=False)\n",
       "          )\n",
       "        )\n",
       "        (norm): LayerNorm()\n",
       "      )\n",
       "    )\n",
       "    (mid_block2): ResnetBlock(\n",
       "      (mlp): Sequential(\n",
       "        (0): SiLU()\n",
       "        (1): Linear(in_features=256, out_features=512, bias=True)\n",
       "      )\n",
       "      (block1): Block(\n",
       "        (proj): Conv3d(256, 256, kernel_size=(1, 3, 3), stride=(1, 1, 1), padding=(0, 1, 1))\n",
       "        (norm): RMSNorm()\n",
       "        (act): SiLU()\n",
       "      )\n",
       "      (block2): Block(\n",
       "        (proj): Conv3d(256, 256, kernel_size=(1, 3, 3), stride=(1, 1, 1), padding=(0, 1, 1))\n",
       "        (norm): RMSNorm()\n",
       "        (act): SiLU()\n",
       "      )\n",
       "      (res_conv): Identity()\n",
       "    )\n",
       "    (final_conv): Sequential(\n",
       "      (0): ResnetBlock(\n",
       "        (block1): Block(\n",
       "          (proj): Conv3d(128, 64, kernel_size=(1, 3, 3), stride=(1, 1, 1), padding=(0, 1, 1))\n",
       "          (norm): RMSNorm()\n",
       "          (act): SiLU()\n",
       "        )\n",
       "        (block2): Block(\n",
       "          (proj): Conv3d(64, 64, kernel_size=(1, 3, 3), stride=(1, 1, 1), padding=(0, 1, 1))\n",
       "          (norm): RMSNorm()\n",
       "          (act): SiLU()\n",
       "        )\n",
       "        (res_conv): Conv3d(128, 64, kernel_size=(1, 1, 1), stride=(1, 1, 1))\n",
       "      )\n",
       "      (1): Conv3d(64, 6, kernel_size=(1, 1, 1), stride=(1, 1, 1))\n",
       "    )\n",
       "  )\n",
       ")"
      ]
     },
     "execution_count": 15,
     "metadata": {},
     "output_type": "execute_result"
    }
   ],
   "source": [
    "from video_diffusion_pytorch import Unet3D, GaussianDiffusion\n",
    "import torch\n",
    "\n",
    "# Recreate the model structure\n",
    "model = Unet3D(\n",
    "    dim=64,\n",
    "    dim_mults=(1, 2, 4),\n",
    "    channels=6  # must match training\n",
    ")\n",
    "\n",
    "# Recreate the diffusion wrapper\n",
    "diffusion = GaussianDiffusion(\n",
    "    model,\n",
    "    image_size=128,\n",
    "    num_frames=8,\n",
    "    timesteps=1000\n",
    ")\n",
    "\n",
    "# Load the saved weights\n",
    "checkpoint = torch.load('cloud_motion_diffusion.pth', map_location='cpu')\n",
    "model.load_state_dict(checkpoint['model_state_dict'])\n",
    "diffusion.load_state_dict(checkpoint['diffusion_state_dict'])\n",
    "\n",
    "# Set to evaluation mode\n",
    "model.eval()\n",
    "diffusion.eval()"
   ]
  },
  {
   "cell_type": "code",
   "execution_count": 26,
   "metadata": {},
   "outputs": [
    {
     "ename": "TypeError",
     "evalue": "GaussianDiffusion.sample() got an unexpected keyword argument 'shape'",
     "output_type": "error",
     "traceback": [
      "\u001b[31m---------------------------------------------------------------------------\u001b[39m",
      "\u001b[31mTypeError\u001b[39m                                 Traceback (most recent call last)",
      "\u001b[36mCell\u001b[39m\u001b[36m \u001b[39m\u001b[32mIn[26]\u001b[39m\u001b[32m, line 25\u001b[39m\n\u001b[32m     21\u001b[39m \u001b[38;5;66;03m# generate sample\u001b[39;00m\n\u001b[32m     23\u001b[39m \u001b[38;5;28;01mwith\u001b[39;00m torch.no_grad():\n\u001b[32m---> \u001b[39m\u001b[32m25\u001b[39m     sample = \u001b[43mdiffusion\u001b[49m\u001b[43m.\u001b[49m\u001b[43msample\u001b[49m\u001b[43m(\u001b[49m\u001b[43mshape\u001b[49m\u001b[43m=\u001b[49m\u001b[43msample_shape\u001b[49m\u001b[43m)\u001b[49m.to(\u001b[33m'\u001b[39m\u001b[33mcpu\u001b[39m\u001b[33m'\u001b[39m)  \u001b[38;5;66;03m# shape: (1, 6, 8, 128, 128)\u001b[39;00m\n\u001b[32m     29\u001b[39m \u001b[38;5;66;03m# remove batch dim\u001b[39;00m\n\u001b[32m     31\u001b[39m sample_np = sample[\u001b[32m0\u001b[39m].numpy()  \u001b[38;5;66;03m# shape: (6, 8, 128, 128)\u001b[39;00m\n",
      "\u001b[36mFile \u001b[39m\u001b[32mc:\\C++ Projects\\pyth\\.venv\\Lib\\site-packages\\torch\\utils\\_contextlib.py:116\u001b[39m, in \u001b[36mcontext_decorator.<locals>.decorate_context\u001b[39m\u001b[34m(*args, **kwargs)\u001b[39m\n\u001b[32m    113\u001b[39m \u001b[38;5;129m@functools\u001b[39m.wraps(func)\n\u001b[32m    114\u001b[39m \u001b[38;5;28;01mdef\u001b[39;00m\u001b[38;5;250m \u001b[39m\u001b[34mdecorate_context\u001b[39m(*args, **kwargs):\n\u001b[32m    115\u001b[39m     \u001b[38;5;28;01mwith\u001b[39;00m ctx_factory():\n\u001b[32m--> \u001b[39m\u001b[32m116\u001b[39m         \u001b[38;5;28;01mreturn\u001b[39;00m \u001b[43mfunc\u001b[49m\u001b[43m(\u001b[49m\u001b[43m*\u001b[49m\u001b[43margs\u001b[49m\u001b[43m,\u001b[49m\u001b[43m \u001b[49m\u001b[43m*\u001b[49m\u001b[43m*\u001b[49m\u001b[43mkwargs\u001b[49m\u001b[43m)\u001b[49m\n",
      "\u001b[31mTypeError\u001b[39m: GaussianDiffusion.sample() got an unexpected keyword argument 'shape'"
     ]
    }
   ],
   "source": [
    "import torch\n",
    "\n",
    "\n",
    "\n",
    "# move to GPU if available\n",
    "\n",
    "device = torch.device(\"cuda\" if torch.cuda.is_available() else \"cpu\")\n",
    "\n",
    "model.to(device)\n",
    "\n",
    "diffusion.to(device)\n",
    "\n",
    "\n",
    "\n",
    "# define shape: (B, C, F, H, W)\n",
    "\n",
    "sample_shape = (1, 6, 8, 128, 128)\n",
    "\n",
    "\n",
    "\n",
    "# generate sample\n",
    "\n",
    "with torch.no_grad():\n",
    "\n",
    "    sample = diffusion.sample(shape=sample_shape).to('cpu')  # shape: (1, 6, 8, 128, 128)\n",
    "\n",
    "\n",
    "\n",
    "# remove batch dim\n",
    "\n",
    "sample_np = sample[0].numpy()  # shape: (6, 8, 128, 128)"
   ]
  }
 ],
 "metadata": {
  "accelerator": "TPU",
  "colab": {
   "authorship_tag": "ABX9TyO8mS7NB2KVqcxa/AobKuaG",
   "gpuType": "V28",
   "provenance": []
  },
  "kernelspec": {
   "display_name": ".venv",
   "language": "python",
   "name": "python3"
  },
  "language_info": {
   "codemirror_mode": {
    "name": "ipython",
    "version": 3
   },
   "file_extension": ".py",
   "mimetype": "text/x-python",
   "name": "python",
   "nbconvert_exporter": "python",
   "pygments_lexer": "ipython3",
   "version": "3.13.3"
  }
 },
 "nbformat": 4,
 "nbformat_minor": 0
}
